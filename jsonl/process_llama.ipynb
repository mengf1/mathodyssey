{
 "cells": [
  {
   "cell_type": "code",
   "execution_count": 1,
   "metadata": {},
   "outputs": [],
   "source": [
    "import json\n",
    "\n",
    "# read jsonl file from disk\n",
    "with open('llama3-70b-solution-last.jsonl', 'r') as f:\n",
    "    jsonl_lines = f.readlines()\n",
    "\n",
    "import re\n",
    "\n",
    "\n",
    "def extract_answer(data):\n",
    "    # Step 1: Find the location of the \"answer\" keyword\n",
    "    answer_start = data.find('\"answer')\n",
    "    if answer_start == -1:\n",
    "        return None  # If \"answer\" is not found, return None\n",
    "\n",
    "    # Step 2: Find the start of the value after \"answer\"\n",
    "    answer_start = data.find(':', answer_start)  # Find the colon after \"answer\"\n",
    "    if answer_start == -1:\n",
    "        return None  # If the colon is not found, return None\n",
    "\n",
    "    # Step 3: Find the first occurrence of \"\\ndata\" after the colon\n",
    "    data_end = data.find(\"\\ndata\", answer_start)\n",
    "    if data_end == -1:\n",
    "        return None  # If \"\\ndata\" is not found, return None\n",
    "\n",
    "    # Step 4: Extract the value between the colon and the first \"\\ndata\"\n",
    "    answer_value = data[answer_start + 1:data_end].strip().strip('\"')\n",
    "\n",
    "    return answer_value\n",
    "\n",
    "# Function to extract Problem ID and Answer\n",
    "def extract_problem_and_answer(jsonl_lines):\n",
    "    extracted_data = []\n",
    "    for line in jsonl_lines:\n",
    "        # Try to load the JSON data from the line\n",
    "        try:\n",
    "            # Assuming the first key is always the problem id\n",
    "            data = json.loads(line)\n",
    "            problem_id = list(data.keys())[0]  # Get the first key as problem ID\n",
    "            problem_data = data[problem_id]  # Get the associated data as a string\n",
    "\n",
    "            # Find and extract the JSON object in the 'data' field\n",
    "            start_index = problem_data.find('{')\n",
    "            end_index = problem_data.rfind('}') + 1\n",
    "\n",
    "            answer = extract_answer(problem_data[start_index:end_index])\n",
    "\n",
    "            # Construct the JSONL format output\n",
    "            extracted_data.append({problem_id: {\"answer\": str(answer)}})\n",
    "        except json.JSONDecodeError as e:\n",
    "            print(f\"Error decoding JSON: {e}\")\n",
    "    \n",
    "    return extracted_data\n",
    "\n",
    "# Extract data from the JSONL lines\n",
    "result = extract_problem_and_answer(jsonl_lines)\n",
    "\n",
    "# Output the extracted problem IDs and answers in JSONL format\n",
    "with open('clean/output-last.jsonl', 'w') as f:\n",
    "    for item in result:\n",
    "        f.write(json.dumps(item) + '\\n')\n"
   ]
  },
  {
   "cell_type": "code",
   "execution_count": 19,
   "metadata": {},
   "outputs": [
    {
     "name": "stdout",
     "output_type": "stream",
     "text": [
      "something went wrong:```json\n",
      "{\n",
      "    \"a\": -3,\n",
      "    \"b\": 4\n",
      "}\n",
      "```\n"
     ]
    }
   ],
   "source": [
    "import json\n",
    "\n",
    "# read jsonl file from disk\n",
    "with open('gpt-4-o1-preview-solution.jsonl', 'r') as f:\n",
    "    jsonl_lines = f.readlines()\n",
    "\n",
    "import re\n",
    "\n",
    "\n",
    "def extract_answer(data):\n",
    "    # Step 1: Find the location of the \"answer\" keyword\n",
    "    answer_start = data.find('answer')\n",
    "    if answer_start == -1:\n",
    "        print(f'something went wrong:{data}')\n",
    "        return None  # If \"answer\" is not found, return None\n",
    "\n",
    "    # Step 2: Find the start of the value after \"answer\"\n",
    "    answer_start = data.find(':', answer_start)  # Find the colon after \"answer\"\n",
    "    if answer_start == -1:\n",
    "        print(f'something went wrong:{data}')\n",
    "        return None  # If the colon is not found, return None\n",
    "\n",
    "    # Step 3: Find the first occurrence of \"\\ndata\" after the colon\n",
    "    data_end = data.find(\"}\", answer_start)\n",
    "    if data_end == -1:\n",
    "        print(f'something went wrong:{data}')\n",
    "        return None  \n",
    "\n",
    "    # Step 4: Extract the value between the colon and the first \"\\ndata\"\n",
    "    answer_value = data[answer_start + 1:data_end].strip().strip('\"')\n",
    "\n",
    "    return answer_value\n",
    "\n",
    "# Function to extract Problem ID and Answer\n",
    "def extract_problem_and_answer(jsonl_lines):\n",
    "    extracted_data = []\n",
    "    for line in jsonl_lines:\n",
    "        # Assuming the first key is always the problem id\n",
    "        data = json.loads(line)\n",
    "        problem_id = list(data.keys())[0]  # Get the first key as problem ID\n",
    "        problem_data = data[problem_id]  # Get the associated data as a string\n",
    "\n",
    "        answer = extract_answer(problem_data)\n",
    "\n",
    "        # Construct the JSONL format output\n",
    "        extracted_data.append({problem_id: {\"answer\": str(answer)}})\n",
    "    \n",
    "    \n",
    "    return extracted_data\n",
    "\n",
    "# Extract data from the JSONL lines\n",
    "result = extract_problem_and_answer(jsonl_lines)\n",
    "\n",
    "# Output the extracted problem IDs and answers in JSONL format\n",
    "with open('clean/gpt-4-o1-preview-solution-clean.jsonl', 'w') as f:\n",
    "    for item in result:\n",
    "        f.write(json.dumps(item) + '\\n')\n"
   ]
  },
  {
   "cell_type": "code",
   "execution_count": 11,
   "metadata": {},
   "outputs": [],
   "source": [
    "import json\n",
    "# Function to extract and clean data\n",
    "def clean_data(input_data):\n",
    "    cleaned_data = []\n",
    "    \n",
    "    for line in input_data:\n",
    "        entry = json.loads(line)\n",
    "        for problem_id, text in entry.items():\n",
    "            # Extract json block from the text\n",
    "            start = text.find('\\\"answer\\\":')\n",
    "            end = text.find('\\n', start + 1)\n",
    "            json_text = text[start + len('```json'):end].strip()\n",
    "            try:\n",
    "                json_data = json.loads(json_text)\n",
    "                cleaned_data.append({problem_id: json_data})\n",
    "            except json.JSONDecodeError:\n",
    "                print(f'something went wrong:{problem_id}')\n",
    "                print(json_text)\n",
    "           \n",
    "    \n",
    "    return cleaned_data"
   ]
  },
  {
   "cell_type": "code",
   "execution_count": 5,
   "metadata": {},
   "outputs": [],
   "source": [
    "# read jsonl file from disk\n",
    "import json\n",
    "with open('gpt-4-0125-preview-solution-new.jsonl', 'r') as f:\n",
    "    jsonl_lines = f.readlines()\n"
   ]
  },
  {
   "cell_type": "code",
   "execution_count": 12,
   "metadata": {},
   "outputs": [
    {
     "data": {
      "text/plain": [
       "8"
      ]
     },
     "execution_count": 12,
     "metadata": {},
     "output_type": "execute_result"
    }
   ],
   "source": [
    "aaa = json.loads(jsonl_lines[0])\n",
    "bbb = json.loads(aaa['Problem_1'])\n",
    "bbb['answer']"
   ]
  },
  {
   "cell_type": "code",
   "execution_count": 16,
   "metadata": {},
   "outputs": [
    {
     "name": "stdout",
     "output_type": "stream",
     "text": [
      "Problem_7\n",
      "Problem_24\n",
      "Problem_66\n",
      "Problem_71\n",
      "Problem_85\n",
      "Problem_233\n",
      "Problem_245\n",
      "Problem_261\n",
      "Problem_268\n",
      "Problem_269\n",
      "Problem_270\n",
      "Problem_283\n",
      "Problem_307\n",
      "Problem_354\n",
      "Problem_384\n"
     ]
    }
   ],
   "source": [
    "import json\n",
    "\n",
    "# Input and output file paths\n",
    "input_file = 'gpt-4-0125-preview-solution-new.jsonl'\n",
    "output_file = 'clean/gpt-4-0125-preview-solution-clean-new.jsonl'\n",
    "\n",
    "# Open the input file for reading and the output file for writing\n",
    "with open(input_file, 'r') as infile, open(output_file, 'w') as outfile:\n",
    "    for line in infile:\n",
    "        # Parse the JSON data\n",
    "        data = json.loads(line)\n",
    "        \n",
    "        # Extract only the answer and restructure the JSON\n",
    "        for key, value in data.items():\n",
    "            try:\n",
    "                value = json.loads(value)\n",
    "                cleaned_data = {key: {\"answer\": value[\"answer\"]}}\n",
    "                # Write the cleaned JSON back to the output file\n",
    "                outfile.write(json.dumps(cleaned_data) + \"\\n\")\n",
    "            except:\n",
    "                print(key)\n",
    "       \n"
   ]
  },
  {
   "cell_type": "code",
   "execution_count": null,
   "metadata": {},
   "outputs": [],
   "source": []
  }
 ],
 "metadata": {
  "kernelspec": {
   "display_name": "agent",
   "language": "python",
   "name": "python3"
  },
  "language_info": {
   "codemirror_mode": {
    "name": "ipython",
    "version": 3
   },
   "file_extension": ".py",
   "mimetype": "text/x-python",
   "name": "python",
   "nbconvert_exporter": "python",
   "pygments_lexer": "ipython3",
   "version": "3.10.14"
  }
 },
 "nbformat": 4,
 "nbformat_minor": 2
}
